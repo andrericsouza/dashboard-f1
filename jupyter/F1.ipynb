{
 "cells": [
  {
   "cell_type": "markdown",
   "id": "b0452040",
   "metadata": {
    "ExecuteTime": {
     "end_time": "2023-09-16T20:24:22.720007Z",
     "start_time": "2023-09-16T20:24:22.704869Z"
    }
   },
   "source": [
    "# F1\n",
    "O objetivo deste notebook é fazer a leitura dos dados das voltas e separar os dados do campeonato de 2022"
   ]
  },
  {
   "cell_type": "code",
   "execution_count": 1,
   "id": "bcff70bb",
   "metadata": {
    "ExecuteTime": {
     "end_time": "2023-09-16T20:26:41.905870Z",
     "start_time": "2023-09-16T20:26:40.960227Z"
    }
   },
   "outputs": [],
   "source": [
    "import pandas as pd"
   ]
  },
  {
   "cell_type": "code",
   "execution_count": 2,
   "id": "a2f4efc1",
   "metadata": {
    "ExecuteTime": {
     "end_time": "2023-09-16T20:36:06.719662Z",
     "start_time": "2023-09-16T20:36:06.714547Z"
    }
   },
   "outputs": [],
   "source": [
    "ano=2022"
   ]
  },
  {
   "cell_type": "code",
   "execution_count": 3,
   "id": "ce968427",
   "metadata": {
    "ExecuteTime": {
     "end_time": "2023-09-16T20:27:14.639618Z",
     "start_time": "2023-09-16T20:27:14.418471Z"
    }
   },
   "outputs": [],
   "source": [
    "dados = pd.read_csv(\"./dados/lap_times.csv\")"
   ]
  },
  {
   "cell_type": "code",
   "execution_count": 4,
   "id": "a7239121",
   "metadata": {
    "ExecuteTime": {
     "end_time": "2023-09-16T20:27:18.607946Z",
     "start_time": "2023-09-16T20:27:18.585371Z"
    }
   },
   "outputs": [
    {
     "data": {
      "text/html": [
       "<div>\n",
       "<style scoped>\n",
       "    .dataframe tbody tr th:only-of-type {\n",
       "        vertical-align: middle;\n",
       "    }\n",
       "\n",
       "    .dataframe tbody tr th {\n",
       "        vertical-align: top;\n",
       "    }\n",
       "\n",
       "    .dataframe thead th {\n",
       "        text-align: right;\n",
       "    }\n",
       "</style>\n",
       "<table border=\"1\" class=\"dataframe\">\n",
       "  <thead>\n",
       "    <tr style=\"text-align: right;\">\n",
       "      <th></th>\n",
       "      <th>raceId</th>\n",
       "      <th>driverId</th>\n",
       "      <th>lap</th>\n",
       "      <th>position</th>\n",
       "      <th>time</th>\n",
       "      <th>milliseconds</th>\n",
       "    </tr>\n",
       "  </thead>\n",
       "  <tbody>\n",
       "    <tr>\n",
       "      <th>0</th>\n",
       "      <td>841</td>\n",
       "      <td>20</td>\n",
       "      <td>1</td>\n",
       "      <td>1</td>\n",
       "      <td>1:38.109</td>\n",
       "      <td>98109</td>\n",
       "    </tr>\n",
       "    <tr>\n",
       "      <th>1</th>\n",
       "      <td>841</td>\n",
       "      <td>20</td>\n",
       "      <td>2</td>\n",
       "      <td>1</td>\n",
       "      <td>1:33.006</td>\n",
       "      <td>93006</td>\n",
       "    </tr>\n",
       "    <tr>\n",
       "      <th>2</th>\n",
       "      <td>841</td>\n",
       "      <td>20</td>\n",
       "      <td>3</td>\n",
       "      <td>1</td>\n",
       "      <td>1:32.713</td>\n",
       "      <td>92713</td>\n",
       "    </tr>\n",
       "    <tr>\n",
       "      <th>3</th>\n",
       "      <td>841</td>\n",
       "      <td>20</td>\n",
       "      <td>4</td>\n",
       "      <td>1</td>\n",
       "      <td>1:32.803</td>\n",
       "      <td>92803</td>\n",
       "    </tr>\n",
       "    <tr>\n",
       "      <th>4</th>\n",
       "      <td>841</td>\n",
       "      <td>20</td>\n",
       "      <td>5</td>\n",
       "      <td>1</td>\n",
       "      <td>1:32.342</td>\n",
       "      <td>92342</td>\n",
       "    </tr>\n",
       "  </tbody>\n",
       "</table>\n",
       "</div>"
      ],
      "text/plain": [
       "   raceId  driverId  lap  position      time  milliseconds\n",
       "0     841        20    1         1  1:38.109         98109\n",
       "1     841        20    2         1  1:33.006         93006\n",
       "2     841        20    3         1  1:32.713         92713\n",
       "3     841        20    4         1  1:32.803         92803\n",
       "4     841        20    5         1  1:32.342         92342"
      ]
     },
     "execution_count": 4,
     "metadata": {},
     "output_type": "execute_result"
    }
   ],
   "source": [
    "dados.head()"
   ]
  },
  {
   "cell_type": "code",
   "execution_count": 5,
   "id": "094c8b26",
   "metadata": {
    "ExecuteTime": {
     "end_time": "2023-09-16T20:29:05.294044Z",
     "start_time": "2023-09-16T20:29:05.267704Z"
    }
   },
   "outputs": [],
   "source": [
    "corridas = pd.read_csv(\"./dados/races.csv\")"
   ]
  },
  {
   "cell_type": "code",
   "execution_count": 6,
   "id": "df98959c",
   "metadata": {
    "ExecuteTime": {
     "end_time": "2023-09-16T20:29:09.865487Z",
     "start_time": "2023-09-16T20:29:09.846641Z"
    }
   },
   "outputs": [
    {
     "data": {
      "text/html": [
       "<div>\n",
       "<style scoped>\n",
       "    .dataframe tbody tr th:only-of-type {\n",
       "        vertical-align: middle;\n",
       "    }\n",
       "\n",
       "    .dataframe tbody tr th {\n",
       "        vertical-align: top;\n",
       "    }\n",
       "\n",
       "    .dataframe thead th {\n",
       "        text-align: right;\n",
       "    }\n",
       "</style>\n",
       "<table border=\"1\" class=\"dataframe\">\n",
       "  <thead>\n",
       "    <tr style=\"text-align: right;\">\n",
       "      <th></th>\n",
       "      <th>raceId</th>\n",
       "      <th>year</th>\n",
       "      <th>round</th>\n",
       "      <th>circuitId</th>\n",
       "      <th>name</th>\n",
       "      <th>date</th>\n",
       "      <th>time</th>\n",
       "      <th>url</th>\n",
       "      <th>fp1_date</th>\n",
       "      <th>fp1_time</th>\n",
       "      <th>fp2_date</th>\n",
       "      <th>fp2_time</th>\n",
       "      <th>fp3_date</th>\n",
       "      <th>fp3_time</th>\n",
       "      <th>quali_date</th>\n",
       "      <th>quali_time</th>\n",
       "      <th>sprint_date</th>\n",
       "      <th>sprint_time</th>\n",
       "    </tr>\n",
       "  </thead>\n",
       "  <tbody>\n",
       "    <tr>\n",
       "      <th>0</th>\n",
       "      <td>1</td>\n",
       "      <td>2009</td>\n",
       "      <td>1</td>\n",
       "      <td>1</td>\n",
       "      <td>Australian Grand Prix</td>\n",
       "      <td>2009-03-29</td>\n",
       "      <td>06:00:00</td>\n",
       "      <td>http://en.wikipedia.org/wiki/2009_Australian_G...</td>\n",
       "      <td>\\N</td>\n",
       "      <td>\\N</td>\n",
       "      <td>\\N</td>\n",
       "      <td>\\N</td>\n",
       "      <td>\\N</td>\n",
       "      <td>\\N</td>\n",
       "      <td>\\N</td>\n",
       "      <td>\\N</td>\n",
       "      <td>\\N</td>\n",
       "      <td>\\N</td>\n",
       "    </tr>\n",
       "    <tr>\n",
       "      <th>1</th>\n",
       "      <td>2</td>\n",
       "      <td>2009</td>\n",
       "      <td>2</td>\n",
       "      <td>2</td>\n",
       "      <td>Malaysian Grand Prix</td>\n",
       "      <td>2009-04-05</td>\n",
       "      <td>09:00:00</td>\n",
       "      <td>http://en.wikipedia.org/wiki/2009_Malaysian_Gr...</td>\n",
       "      <td>\\N</td>\n",
       "      <td>\\N</td>\n",
       "      <td>\\N</td>\n",
       "      <td>\\N</td>\n",
       "      <td>\\N</td>\n",
       "      <td>\\N</td>\n",
       "      <td>\\N</td>\n",
       "      <td>\\N</td>\n",
       "      <td>\\N</td>\n",
       "      <td>\\N</td>\n",
       "    </tr>\n",
       "    <tr>\n",
       "      <th>2</th>\n",
       "      <td>3</td>\n",
       "      <td>2009</td>\n",
       "      <td>3</td>\n",
       "      <td>17</td>\n",
       "      <td>Chinese Grand Prix</td>\n",
       "      <td>2009-04-19</td>\n",
       "      <td>07:00:00</td>\n",
       "      <td>http://en.wikipedia.org/wiki/2009_Chinese_Gran...</td>\n",
       "      <td>\\N</td>\n",
       "      <td>\\N</td>\n",
       "      <td>\\N</td>\n",
       "      <td>\\N</td>\n",
       "      <td>\\N</td>\n",
       "      <td>\\N</td>\n",
       "      <td>\\N</td>\n",
       "      <td>\\N</td>\n",
       "      <td>\\N</td>\n",
       "      <td>\\N</td>\n",
       "    </tr>\n",
       "    <tr>\n",
       "      <th>3</th>\n",
       "      <td>4</td>\n",
       "      <td>2009</td>\n",
       "      <td>4</td>\n",
       "      <td>3</td>\n",
       "      <td>Bahrain Grand Prix</td>\n",
       "      <td>2009-04-26</td>\n",
       "      <td>12:00:00</td>\n",
       "      <td>http://en.wikipedia.org/wiki/2009_Bahrain_Gran...</td>\n",
       "      <td>\\N</td>\n",
       "      <td>\\N</td>\n",
       "      <td>\\N</td>\n",
       "      <td>\\N</td>\n",
       "      <td>\\N</td>\n",
       "      <td>\\N</td>\n",
       "      <td>\\N</td>\n",
       "      <td>\\N</td>\n",
       "      <td>\\N</td>\n",
       "      <td>\\N</td>\n",
       "    </tr>\n",
       "    <tr>\n",
       "      <th>4</th>\n",
       "      <td>5</td>\n",
       "      <td>2009</td>\n",
       "      <td>5</td>\n",
       "      <td>4</td>\n",
       "      <td>Spanish Grand Prix</td>\n",
       "      <td>2009-05-10</td>\n",
       "      <td>12:00:00</td>\n",
       "      <td>http://en.wikipedia.org/wiki/2009_Spanish_Gran...</td>\n",
       "      <td>\\N</td>\n",
       "      <td>\\N</td>\n",
       "      <td>\\N</td>\n",
       "      <td>\\N</td>\n",
       "      <td>\\N</td>\n",
       "      <td>\\N</td>\n",
       "      <td>\\N</td>\n",
       "      <td>\\N</td>\n",
       "      <td>\\N</td>\n",
       "      <td>\\N</td>\n",
       "    </tr>\n",
       "  </tbody>\n",
       "</table>\n",
       "</div>"
      ],
      "text/plain": [
       "   raceId  year  round  circuitId                   name        date  \\\n",
       "0       1  2009      1          1  Australian Grand Prix  2009-03-29   \n",
       "1       2  2009      2          2   Malaysian Grand Prix  2009-04-05   \n",
       "2       3  2009      3         17     Chinese Grand Prix  2009-04-19   \n",
       "3       4  2009      4          3     Bahrain Grand Prix  2009-04-26   \n",
       "4       5  2009      5          4     Spanish Grand Prix  2009-05-10   \n",
       "\n",
       "       time                                                url fp1_date  \\\n",
       "0  06:00:00  http://en.wikipedia.org/wiki/2009_Australian_G...       \\N   \n",
       "1  09:00:00  http://en.wikipedia.org/wiki/2009_Malaysian_Gr...       \\N   \n",
       "2  07:00:00  http://en.wikipedia.org/wiki/2009_Chinese_Gran...       \\N   \n",
       "3  12:00:00  http://en.wikipedia.org/wiki/2009_Bahrain_Gran...       \\N   \n",
       "4  12:00:00  http://en.wikipedia.org/wiki/2009_Spanish_Gran...       \\N   \n",
       "\n",
       "  fp1_time fp2_date fp2_time fp3_date fp3_time quali_date quali_time  \\\n",
       "0       \\N       \\N       \\N       \\N       \\N         \\N         \\N   \n",
       "1       \\N       \\N       \\N       \\N       \\N         \\N         \\N   \n",
       "2       \\N       \\N       \\N       \\N       \\N         \\N         \\N   \n",
       "3       \\N       \\N       \\N       \\N       \\N         \\N         \\N   \n",
       "4       \\N       \\N       \\N       \\N       \\N         \\N         \\N   \n",
       "\n",
       "  sprint_date sprint_time  \n",
       "0          \\N          \\N  \n",
       "1          \\N          \\N  \n",
       "2          \\N          \\N  \n",
       "3          \\N          \\N  \n",
       "4          \\N          \\N  "
      ]
     },
     "execution_count": 6,
     "metadata": {},
     "output_type": "execute_result"
    }
   ],
   "source": [
    "corridas.head()"
   ]
  },
  {
   "cell_type": "code",
   "execution_count": 7,
   "id": "2790743d",
   "metadata": {
    "ExecuteTime": {
     "end_time": "2023-09-16T20:38:47.880720Z",
     "start_time": "2023-09-16T20:38:47.862070Z"
    }
   },
   "outputs": [],
   "source": [
    "df = corridas[corridas['year']==ano].reset_index(drop=True)"
   ]
  },
  {
   "cell_type": "code",
   "execution_count": 8,
   "id": "e3c11d21",
   "metadata": {
    "ExecuteTime": {
     "end_time": "2023-09-16T20:38:48.129397Z",
     "start_time": "2023-09-16T20:38:48.104299Z"
    }
   },
   "outputs": [
    {
     "data": {
      "text/html": [
       "<div>\n",
       "<style scoped>\n",
       "    .dataframe tbody tr th:only-of-type {\n",
       "        vertical-align: middle;\n",
       "    }\n",
       "\n",
       "    .dataframe tbody tr th {\n",
       "        vertical-align: top;\n",
       "    }\n",
       "\n",
       "    .dataframe thead th {\n",
       "        text-align: right;\n",
       "    }\n",
       "</style>\n",
       "<table border=\"1\" class=\"dataframe\">\n",
       "  <thead>\n",
       "    <tr style=\"text-align: right;\">\n",
       "      <th></th>\n",
       "      <th>raceId</th>\n",
       "      <th>year</th>\n",
       "      <th>round</th>\n",
       "      <th>circuitId</th>\n",
       "      <th>name</th>\n",
       "      <th>date</th>\n",
       "      <th>time</th>\n",
       "      <th>url</th>\n",
       "      <th>fp1_date</th>\n",
       "      <th>fp1_time</th>\n",
       "      <th>fp2_date</th>\n",
       "      <th>fp2_time</th>\n",
       "      <th>fp3_date</th>\n",
       "      <th>fp3_time</th>\n",
       "      <th>quali_date</th>\n",
       "      <th>quali_time</th>\n",
       "      <th>sprint_date</th>\n",
       "      <th>sprint_time</th>\n",
       "    </tr>\n",
       "  </thead>\n",
       "  <tbody>\n",
       "    <tr>\n",
       "      <th>0</th>\n",
       "      <td>1074</td>\n",
       "      <td>2022</td>\n",
       "      <td>1</td>\n",
       "      <td>3</td>\n",
       "      <td>Bahrain Grand Prix</td>\n",
       "      <td>2022-03-20</td>\n",
       "      <td>15:00:00</td>\n",
       "      <td>http://en.wikipedia.org/wiki/2022_Bahrain_Gran...</td>\n",
       "      <td>2022-03-18</td>\n",
       "      <td>12:00:00</td>\n",
       "      <td>2022-03-18</td>\n",
       "      <td>15:00:00</td>\n",
       "      <td>2022-03-19</td>\n",
       "      <td>12:00:00</td>\n",
       "      <td>2022-03-19</td>\n",
       "      <td>15:00:00</td>\n",
       "      <td>\\N</td>\n",
       "      <td>\\N</td>\n",
       "    </tr>\n",
       "    <tr>\n",
       "      <th>1</th>\n",
       "      <td>1075</td>\n",
       "      <td>2022</td>\n",
       "      <td>2</td>\n",
       "      <td>77</td>\n",
       "      <td>Saudi Arabian Grand Prix</td>\n",
       "      <td>2022-03-27</td>\n",
       "      <td>17:00:00</td>\n",
       "      <td>http://en.wikipedia.org/wiki/2022_Saudi_Arabia...</td>\n",
       "      <td>2022-03-25</td>\n",
       "      <td>14:00:00</td>\n",
       "      <td>2022-03-25</td>\n",
       "      <td>17:00:00</td>\n",
       "      <td>2022-03-26</td>\n",
       "      <td>14:00:00</td>\n",
       "      <td>2022-03-26</td>\n",
       "      <td>17:00:00</td>\n",
       "      <td>\\N</td>\n",
       "      <td>\\N</td>\n",
       "    </tr>\n",
       "    <tr>\n",
       "      <th>2</th>\n",
       "      <td>1076</td>\n",
       "      <td>2022</td>\n",
       "      <td>3</td>\n",
       "      <td>1</td>\n",
       "      <td>Australian Grand Prix</td>\n",
       "      <td>2022-04-10</td>\n",
       "      <td>05:00:00</td>\n",
       "      <td>http://en.wikipedia.org/wiki/2022_Australian_G...</td>\n",
       "      <td>2022-04-08</td>\n",
       "      <td>03:00:00</td>\n",
       "      <td>2022-04-08</td>\n",
       "      <td>06:00:00</td>\n",
       "      <td>2022-04-09</td>\n",
       "      <td>03:00:00</td>\n",
       "      <td>2022-04-09</td>\n",
       "      <td>06:00:00</td>\n",
       "      <td>\\N</td>\n",
       "      <td>\\N</td>\n",
       "    </tr>\n",
       "    <tr>\n",
       "      <th>3</th>\n",
       "      <td>1077</td>\n",
       "      <td>2022</td>\n",
       "      <td>4</td>\n",
       "      <td>21</td>\n",
       "      <td>Emilia Romagna Grand Prix</td>\n",
       "      <td>2022-04-24</td>\n",
       "      <td>13:00:00</td>\n",
       "      <td>http://en.wikipedia.org/wiki/2022_Emilia_Romag...</td>\n",
       "      <td>2022-04-22</td>\n",
       "      <td>11:30:00</td>\n",
       "      <td>2022-04-23</td>\n",
       "      <td>10:30:00</td>\n",
       "      <td>\\N</td>\n",
       "      <td>\\N</td>\n",
       "      <td>2022-04-22</td>\n",
       "      <td>15:00:00</td>\n",
       "      <td>2022-04-23</td>\n",
       "      <td>14:30:00</td>\n",
       "    </tr>\n",
       "    <tr>\n",
       "      <th>4</th>\n",
       "      <td>1078</td>\n",
       "      <td>2022</td>\n",
       "      <td>5</td>\n",
       "      <td>79</td>\n",
       "      <td>Miami Grand Prix</td>\n",
       "      <td>2022-05-08</td>\n",
       "      <td>19:30:00</td>\n",
       "      <td>http://en.wikipedia.org/wiki/2022_Miami_Grand_...</td>\n",
       "      <td>2022-05-06</td>\n",
       "      <td>18:30:00</td>\n",
       "      <td>2022-05-06</td>\n",
       "      <td>21:30:00</td>\n",
       "      <td>2022-05-07</td>\n",
       "      <td>17:00:00</td>\n",
       "      <td>2022-05-07</td>\n",
       "      <td>20:00:00</td>\n",
       "      <td>\\N</td>\n",
       "      <td>\\N</td>\n",
       "    </tr>\n",
       "  </tbody>\n",
       "</table>\n",
       "</div>"
      ],
      "text/plain": [
       "   raceId  year  round  circuitId                       name        date  \\\n",
       "0    1074  2022      1          3         Bahrain Grand Prix  2022-03-20   \n",
       "1    1075  2022      2         77   Saudi Arabian Grand Prix  2022-03-27   \n",
       "2    1076  2022      3          1      Australian Grand Prix  2022-04-10   \n",
       "3    1077  2022      4         21  Emilia Romagna Grand Prix  2022-04-24   \n",
       "4    1078  2022      5         79           Miami Grand Prix  2022-05-08   \n",
       "\n",
       "       time                                                url    fp1_date  \\\n",
       "0  15:00:00  http://en.wikipedia.org/wiki/2022_Bahrain_Gran...  2022-03-18   \n",
       "1  17:00:00  http://en.wikipedia.org/wiki/2022_Saudi_Arabia...  2022-03-25   \n",
       "2  05:00:00  http://en.wikipedia.org/wiki/2022_Australian_G...  2022-04-08   \n",
       "3  13:00:00  http://en.wikipedia.org/wiki/2022_Emilia_Romag...  2022-04-22   \n",
       "4  19:30:00  http://en.wikipedia.org/wiki/2022_Miami_Grand_...  2022-05-06   \n",
       "\n",
       "   fp1_time    fp2_date  fp2_time    fp3_date  fp3_time  quali_date  \\\n",
       "0  12:00:00  2022-03-18  15:00:00  2022-03-19  12:00:00  2022-03-19   \n",
       "1  14:00:00  2022-03-25  17:00:00  2022-03-26  14:00:00  2022-03-26   \n",
       "2  03:00:00  2022-04-08  06:00:00  2022-04-09  03:00:00  2022-04-09   \n",
       "3  11:30:00  2022-04-23  10:30:00          \\N        \\N  2022-04-22   \n",
       "4  18:30:00  2022-05-06  21:30:00  2022-05-07  17:00:00  2022-05-07   \n",
       "\n",
       "  quali_time sprint_date sprint_time  \n",
       "0   15:00:00          \\N          \\N  \n",
       "1   17:00:00          \\N          \\N  \n",
       "2   06:00:00          \\N          \\N  \n",
       "3   15:00:00  2022-04-23    14:30:00  \n",
       "4   20:00:00          \\N          \\N  "
      ]
     },
     "execution_count": 8,
     "metadata": {},
     "output_type": "execute_result"
    }
   ],
   "source": [
    "df.head()"
   ]
  },
  {
   "cell_type": "code",
   "execution_count": 9,
   "id": "9ebb26e5",
   "metadata": {
    "ExecuteTime": {
     "end_time": "2023-09-16T20:40:50.077958Z",
     "start_time": "2023-09-16T20:40:50.063574Z"
    }
   },
   "outputs": [
    {
     "name": "stdout",
     "output_type": "stream",
     "text": [
      "Corrida com menor indice: 1074 \n",
      "Corrida com maior índice: 1096\n"
     ]
    }
   ],
   "source": [
    "v_min = min(df[\"raceId\"])\n",
    "v_max = max(df[\"raceId\"])\n",
    "\n",
    "print(f\"Corrida com menor indice: {v_min} \\nCorrida com maior índice: {v_max}\")"
   ]
  },
  {
   "cell_type": "code",
   "execution_count": 10,
   "id": "4386b8dd",
   "metadata": {
    "ExecuteTime": {
     "end_time": "2023-09-16T21:07:08.177796Z",
     "start_time": "2023-09-16T21:07:08.156222Z"
    }
   },
   "outputs": [],
   "source": [
    "saida = dados[(dados[\"raceId\"] >= v_min) & (dados[\"raceId\"] <= v_max)].sort_values(['raceId',\"lap\",\"milliseconds\"]).reset_index(drop=True)"
   ]
  },
  {
   "cell_type": "code",
   "execution_count": 11,
   "id": "bdd265ce",
   "metadata": {
    "ExecuteTime": {
     "end_time": "2023-09-16T21:07:08.363296Z",
     "start_time": "2023-09-16T21:07:08.352220Z"
    }
   },
   "outputs": [
    {
     "data": {
      "text/html": [
       "<div>\n",
       "<style scoped>\n",
       "    .dataframe tbody tr th:only-of-type {\n",
       "        vertical-align: middle;\n",
       "    }\n",
       "\n",
       "    .dataframe tbody tr th {\n",
       "        vertical-align: top;\n",
       "    }\n",
       "\n",
       "    .dataframe thead th {\n",
       "        text-align: right;\n",
       "    }\n",
       "</style>\n",
       "<table border=\"1\" class=\"dataframe\">\n",
       "  <thead>\n",
       "    <tr style=\"text-align: right;\">\n",
       "      <th></th>\n",
       "      <th>raceId</th>\n",
       "      <th>driverId</th>\n",
       "      <th>lap</th>\n",
       "      <th>position</th>\n",
       "      <th>time</th>\n",
       "      <th>milliseconds</th>\n",
       "    </tr>\n",
       "  </thead>\n",
       "  <tbody>\n",
       "    <tr>\n",
       "      <th>0</th>\n",
       "      <td>1074</td>\n",
       "      <td>844</td>\n",
       "      <td>1</td>\n",
       "      <td>1</td>\n",
       "      <td>1:39.070</td>\n",
       "      <td>99070</td>\n",
       "    </tr>\n",
       "    <tr>\n",
       "      <th>1</th>\n",
       "      <td>1074</td>\n",
       "      <td>830</td>\n",
       "      <td>1</td>\n",
       "      <td>2</td>\n",
       "      <td>1:40.236</td>\n",
       "      <td>100236</td>\n",
       "    </tr>\n",
       "    <tr>\n",
       "      <th>2</th>\n",
       "      <td>1074</td>\n",
       "      <td>832</td>\n",
       "      <td>1</td>\n",
       "      <td>3</td>\n",
       "      <td>1:41.006</td>\n",
       "      <td>101006</td>\n",
       "    </tr>\n",
       "    <tr>\n",
       "      <th>3</th>\n",
       "      <td>1074</td>\n",
       "      <td>1</td>\n",
       "      <td>1</td>\n",
       "      <td>4</td>\n",
       "      <td>1:41.555</td>\n",
       "      <td>101555</td>\n",
       "    </tr>\n",
       "    <tr>\n",
       "      <th>4</th>\n",
       "      <td>1074</td>\n",
       "      <td>825</td>\n",
       "      <td>1</td>\n",
       "      <td>5</td>\n",
       "      <td>1:42.333</td>\n",
       "      <td>102333</td>\n",
       "    </tr>\n",
       "  </tbody>\n",
       "</table>\n",
       "</div>"
      ],
      "text/plain": [
       "   raceId  driverId  lap  position      time  milliseconds\n",
       "0    1074       844    1         1  1:39.070         99070\n",
       "1    1074       830    1         2  1:40.236        100236\n",
       "2    1074       832    1         3  1:41.006        101006\n",
       "3    1074         1    1         4  1:41.555        101555\n",
       "4    1074       825    1         5  1:42.333        102333"
      ]
     },
     "execution_count": 11,
     "metadata": {},
     "output_type": "execute_result"
    }
   ],
   "source": [
    "saida.head()"
   ]
  },
  {
   "cell_type": "code",
   "execution_count": 12,
   "id": "98ffd7a0",
   "metadata": {
    "ExecuteTime": {
     "end_time": "2023-09-16T21:07:09.017396Z",
     "start_time": "2023-09-16T21:07:08.967947Z"
    }
   },
   "outputs": [],
   "source": [
    "saida.to_csv(f\"./dados/{ano}.csv\", sep=\";\", index=False, header=False)"
   ]
  },
  {
   "cell_type": "code",
   "execution_count": null,
   "id": "74a8ffd5",
   "metadata": {},
   "outputs": [],
   "source": []
  }
 ],
 "metadata": {
  "kernelspec": {
   "display_name": "Python 3 (ipykernel)",
   "language": "python",
   "name": "python3"
  },
  "language_info": {
   "codemirror_mode": {
    "name": "ipython",
    "version": 3
   },
   "file_extension": ".py",
   "mimetype": "text/x-python",
   "name": "python",
   "nbconvert_exporter": "python",
   "pygments_lexer": "ipython3",
   "version": "3.11.5"
  }
 },
 "nbformat": 4,
 "nbformat_minor": 5
}
